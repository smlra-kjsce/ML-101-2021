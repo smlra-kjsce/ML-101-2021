{
  "nbformat": 4,
  "nbformat_minor": 0,
  "metadata": {
    "colab": {
      "name": "Naive-bayes.ipynb",
      "provenance": [],
      "collapsed_sections": [],
      "include_colab_link": true
    },
    "kernelspec": {
      "name": "python3",
      "display_name": "Python 3"
    },
    "language_info": {
      "name": "python"
    }
  },
  "cells": [
    {
      "cell_type": "markdown",
      "metadata": {
        "id": "view-in-github",
        "colab_type": "text"
      },
      "source": [
        "<a href=\"https://colab.research.google.com/github/smlra-kjsce/ML-101-2021/blob/master/Naive-Bayes/Naive_bayes.ipynb\" target=\"_parent\"><img src=\"https://colab.research.google.com/assets/colab-badge.svg\" alt=\"Open In Colab\"/></a>"
      ]
    },
    {
      "cell_type": "markdown",
      "metadata": {
        "id": "UBRkXDXVQIzW"
      },
      "source": [
        "***`Gaussian Naive-Bayes Algorithm.`***"
      ]
    },
    {
      "cell_type": "code",
      "metadata": {
        "id": "VXzD3LEoI7No"
      },
      "source": [
        "\n",
        "import numpy as np\n",
        "import pandas as pd\n",
        "from sklearn.model_selection import train_test_split\n",
        "from sklearn.naive_bayes import GaussianNB\n",
        "from sklearn.metrics import accuracy_score\n",
        "import matplotlib.pyplot as plt\n",
        "import seaborn as sns"
      ],
      "execution_count": null,
      "outputs": []
    },
    {
      "cell_type": "code",
      "metadata": {
        "id": "_p5PbLl_JGlS"
      },
      "source": [
        "df = pd.read_csv(\"/content/Naive-Bayes-Classification-Data.csv\")"
      ],
      "execution_count": null,
      "outputs": []
    },
    {
      "cell_type": "code",
      "metadata": {
        "id": "wNc4YgNaJut-"
      },
      "source": [
        "x=df.drop('diabetes', axis=1)\n",
        "y=df['diabetes']\n",
        "x_train,x_test, y_train, y_test= train_test_split(x,y, test_size= 0.25, random_state=1)\n"
      ],
      "execution_count": null,
      "outputs": []
    },
    {
      "cell_type": "code",
      "metadata": {
        "colab": {
          "base_uri": "https://localhost:8080/"
        },
        "id": "gYKpZmvUKUa9",
        "outputId": "95f83b6b-bafd-4729-d5ab-ebd245f1653c"
      },
      "source": [
        "model= GaussianNB()\n",
        "model.fit(x_train, y_train)"
      ],
      "execution_count": null,
      "outputs": [
        {
          "output_type": "execute_result",
          "data": {
            "text/plain": [
              "GaussianNB(priors=None, var_smoothing=1e-09)"
            ]
          },
          "metadata": {},
          "execution_count": 31
        }
      ]
    },
    {
      "cell_type": "code",
      "metadata": {
        "colab": {
          "base_uri": "https://localhost:8080/"
        },
        "id": "cqC1k6ZmKpkO",
        "outputId": "c14d6d50-35d0-4dd3-9f66-acec0788e3b3"
      },
      "source": [
        "y_pred= model.predict(x_test)\n",
        "y_pred"
      ],
      "execution_count": null,
      "outputs": [
        {
          "output_type": "execute_result",
          "data": {
            "text/plain": [
              "array([1, 0, 1, 1, 1, 0, 0, 1, 0, 0, 1, 1, 0, 0, 1, 0, 0, 0, 1, 1, 0, 0,\n",
              "       0, 1, 1, 1, 1, 1, 0, 0, 1, 0, 1, 1, 1, 0, 1, 1, 1, 1, 0, 1, 0, 0,\n",
              "       0, 0, 1, 1, 0, 0, 1, 1, 1, 1, 0, 0, 0, 1, 1, 1, 1, 0, 0, 0, 0, 1,\n",
              "       1, 1, 1, 1, 1, 1, 1, 1, 1, 0, 0, 1, 1, 1, 1, 1, 1, 1, 0, 1, 1, 0,\n",
              "       0, 1, 0, 1, 0, 0, 1, 1, 0, 1, 0, 0, 1, 0, 0, 0, 0, 1, 0, 0, 1, 0,\n",
              "       0, 0, 0, 1, 0, 0, 0, 0, 0, 1, 0, 1, 0, 0, 0, 0, 1, 0, 1, 0, 0, 1,\n",
              "       1, 1, 0, 1, 0, 1, 0, 1, 0, 1, 1, 0, 0, 0, 0, 1, 1, 1, 0, 1, 1, 0,\n",
              "       1, 0, 0, 0, 0, 1, 0, 0, 1, 0, 1, 0, 0, 0, 0, 0, 1, 0, 0, 0, 0, 1,\n",
              "       1, 0, 0, 0, 0, 0, 0, 0, 0, 1, 1, 0, 1, 0, 1, 1, 0, 0, 0, 0, 0, 0,\n",
              "       0, 0, 1, 0, 0, 1, 0, 1, 0, 0, 0, 1, 1, 1, 1, 1, 1, 1, 1, 0, 1, 0,\n",
              "       0, 1, 1, 0, 0, 1, 1, 1, 1, 0, 0, 1, 1, 0, 0, 0, 1, 0, 0, 1, 1, 1,\n",
              "       0, 0, 0, 0, 0, 1, 1])"
            ]
          },
          "metadata": {},
          "execution_count": 32
        }
      ]
    },
    {
      "cell_type": "markdown",
      "metadata": {
        "id": "QmE9W0yGSy1m"
      },
      "source": [
        ""
      ]
    },
    {
      "cell_type": "code",
      "metadata": {
        "colab": {
          "base_uri": "https://localhost:8080/"
        },
        "id": "xQNECnrpK149",
        "outputId": "1d2ebdc3-ae69-4814-e1de-37b499af327d"
      },
      "source": [
        "accuracy= accuracy_score(y_test,y_pred)*100\n",
        "accuracy"
      ],
      "execution_count": null,
      "outputs": [
        {
          "output_type": "execute_result",
          "data": {
            "text/plain": [
              "94.37751004016064"
            ]
          },
          "metadata": {},
          "execution_count": 29
        }
      ]
    },
    {
      "cell_type": "markdown",
      "metadata": {
        "id": "58nhDgJLSyUT"
      },
      "source": [
        ""
      ]
    },
    {
      "cell_type": "markdown",
      "metadata": {
        "id": "gYLuIbBWTT3M"
      },
      "source": [
        "***Multinomial Naive Bayes Algorithm***"
      ]
    },
    {
      "cell_type": "markdown",
      "metadata": {
        "id": "ghwRNqZ3TreS"
      },
      "source": [
        "![image.png](data:image/png;base64,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)"
      ]
    },
    {
      "cell_type": "markdown",
      "metadata": {
        "id": "kkzJDFPOUnSY"
      },
      "source": [
        "We classify whether the text “overall liked the movie” has a positive \n",
        "review or a negative review. \n",
        "```\n",
        "We have to calculate, \n",
        "P(positive | overall liked the movie) — the probability that the tag of a sentence is positive given that the sentence is “overall liked the movie”. \n",
        "P(negative | overall liked the movie) — the probability that the tag of a sentence is negative given that the sentence is “overall liked the movie”.\n",
        "Before that, first, we apply Removing Stopwords and Stemming in the text.\n",
        "Removing Stopwords: These are common words that don’t really add anything to the classification, such as an able, either, else, ever and so on.\n",
        "Stemming: Stemming to take out the root of the word.\n",
        "\n",
        "\n"
      ]
    },
    {
      "cell_type": "markdown",
      "metadata": {
        "id": "dYhNReAEW6Nl"
      },
      "source": [
        "Feature Engineering: We need to convert this text into numbers that we can do calculations on. We use word frequencies. \n",
        "In our case, we have P(positive | overall liked the movie), by using this theorem:\n",
        " \n",
        "\n",
        "`P(positive | overall liked the movie) = P(overall liked the movie | positive) * P(positive) / P(overall liked the movie)`"
      ]
    },
    {
      "cell_type": "markdown",
      "metadata": {
        "id": "fTK1P7yxX9n-"
      },
      "source": [
        "First, we calculate the a priori probability of each tag: for a given sentence in our training data, the probability that it is positive P(positive) is 3/5. Then, P(negative) is 2/5.\n",
        "Then, calculating P(overall | positive) means counting how many times the word “overall” appears in positive texts (1) divided by the total number of words in positive (17). Therefore, P(overall | positive) = 1/17, P(liked/positive) = 1/17, P(the/positive) = 2/17, P(movie/positive) = 3/17. \n",
        "If probability comes out to be zero then By using Laplace smoothing: we add 1 to every count so it’s never zero. To balance this, we add the number of possible words to the divisor, so the division will never be greater than 1. In our case, the total possible words count are 21."
      ]
    },
    {
      "cell_type": "markdown",
      "metadata": {
        "id": "iLlY8bWvbPTO"
      },
      "source": [
        "P(overall | positive) * P(liked | positive) * P(the | positive) * P(movie | positive) * P(positive ) = 1.38 * 10^{-5} = 0.0000138\n",
        "P(overall | negative) * P(liked | negative) * P(the | negative) * P(movie | negative) * P(negative) = 0.13 * 10^{-5} = 0.0000013\n",
        "\n",
        "Hence we give \"overall liked the movie\" as positive"
      ]
    },
    {
      "cell_type": "code",
      "metadata": {
        "colab": {
          "base_uri": "https://localhost:8080/"
        },
        "id": "eGz-JExNVEi4",
        "outputId": "29df00f2-17fc-4ab3-c691-d33a0137397f"
      },
      "source": [
        "import pandas as pd \n",
        "import re \n",
        "import nltk \n",
        "from nltk.corpus import stopwords \n",
        "from nltk.stem.porter import PorterStemmer \n",
        "from sklearn.feature_extraction.text import CountVectorizer \n",
        "  \n",
        "dataset = [[\"I liked the movie\", \"positive\"], \n",
        "           [\"It’s a good movie. Nice story\", \"positive\"], \n",
        "           [\"Hero’s acting is bad but heroine looks good Overall nice movie\", \"positive\"], \n",
        "            [\"Nice songs. But sadly boring ending.\", \"negative\"], \n",
        "            [\"sad movie, boring movie\", \"negative\"],\n",
        "          ] \n",
        "              \n",
        "dataset = pd.DataFrame(dataset) \n",
        "dataset.columns = [\"Text\", \"Reviews\"] \n",
        "  \n",
        "#nltk.download('stopwords') \n",
        "  \n",
        "corpus = [] \n",
        "  \n",
        "for i in range(0, 5):  #perform basic data preprocessing\n",
        "    text = re.sub('[^a-zA-Z]', '', dataset['Text'][i]) \n",
        "    \n",
        "    text = text.lower() \n",
        "    text = text.split() \n",
        "    ps = PorterStemmer() \n",
        "    text = ''.join(text) \n",
        "    corpus.append(text) \n",
        "  \n",
        "cv = CountVectorizer(max_features = 1500) #used to transform a given text into a vector on the basis of the frequency (count) of each word that occurs in the entire text.\n",
        "  \n",
        "X = cv.fit_transform(corpus).toarray() \n",
        "y = dataset.iloc[:, 1].values \n",
        "from sklearn.model_selection import train_test_split\n",
        "  \n",
        "X_train, X_test, y_train, y_test = train_test_split( \n",
        "           X, y, test_size = 0.31) \n",
        "\n",
        "from sklearn.metrics import confusion_matrix \n",
        "from sklearn.naive_bayes import MultinomialNB\n",
        "  \n",
        "classifier = MultinomialNB(); \n",
        "classifier.fit(X_train, y_train) \n",
        "  \n",
        "y_pred = classifier.predict(X_test) \n",
        "\n",
        "  \n",
        "cm = confusion_matrix(y_test, y_pred) \n",
        "cm \n"
      ],
      "execution_count": null,
      "outputs": [
        {
          "output_type": "execute_result",
          "data": {
            "text/plain": [
              "array([[0, 1],\n",
              "       [0, 1]])"
            ]
          },
          "metadata": {},
          "execution_count": 47
        }
      ]
    },
    {
      "cell_type": "markdown",
      "metadata": {
        "id": "6VE501vdCIKc"
      },
      "source": [
        "![image.png](data:image/png;base64,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)"
      ]
    },
    {
      "cell_type": "markdown",
      "metadata": {
        "id": "C5YYfRDo3x4o"
      },
      "source": [
        "Bernoulli Naive Bayes Theorem:"
      ]
    },
    {
      "cell_type": "code",
      "metadata": {
        "id": "8dCXiJa2gzau"
      },
      "source": [
        "import numpy as np\n",
        "from sklearn.naive_bayes import BernoulliNB \n",
        "from sklearn.metrics import accuracy_score\n",
        "import matplotlib.pyplot as plt"
      ],
      "execution_count": null,
      "outputs": []
    },
    {
      "cell_type": "code",
      "metadata": {
        "id": "TU513NbOgz8v"
      },
      "source": [
        "\n",
        "X = np.random.randint(2, size=(500,10)) #X will have training data with 500 instances with 10 features each, having values in the form of 0 and 1 only.\n",
        "Y = np.random.randint(2, size=(500, 1))\n",
        "\n",
        "X_test = X[:50, :10]\n",
        "y_test = Y[:50, :1]"
      ],
      "execution_count": null,
      "outputs": []
    },
    {
      "cell_type": "code",
      "metadata": {
        "colab": {
          "base_uri": "https://localhost:8080/"
        },
        "id": "DnsWfBzpg2CX",
        "outputId": "7a7f3aee-f21a-4688-f9e2-9d799d4b0335"
      },
      "source": [
        "clf = BernoulliNB()\n",
        "\n",
        "model = clf.fit(X, Y)"
      ],
      "execution_count": null,
      "outputs": [
        {
          "output_type": "stream",
          "name": "stderr",
          "text": [
            "/usr/local/lib/python3.7/dist-packages/sklearn/utils/validation.py:760: DataConversionWarning: A column-vector y was passed when a 1d array was expected. Please change the shape of y to (n_samples, ), for example using ravel().\n",
            "  y = column_or_1d(y, warn=True)\n"
          ]
        }
      ]
    },
    {
      "cell_type": "code",
      "metadata": {
        "colab": {
          "base_uri": "https://localhost:8080/"
        },
        "id": "oaSajkzwhCaB",
        "outputId": "d73dc09e-6024-49ee-cbb3-afd9ac927bbe"
      },
      "source": [
        "y_pred =clf.predict(X_test)\n",
        "acc_score = accuracy_score(y_test, y_pred)\n",
        "print(acc_score)"
      ],
      "execution_count": null,
      "outputs": [
        {
          "output_type": "stream",
          "name": "stdout",
          "text": [
            "0.66\n"
          ]
        }
      ]
    },
    {
      "cell_type": "code",
      "metadata": {
        "id": "O1DXEl65hIsA"
      },
      "source": [
        ""
      ],
      "execution_count": null,
      "outputs": []
    }
  ]
}